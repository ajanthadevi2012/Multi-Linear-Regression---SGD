{
 "cells": [
  {
   "cell_type": "markdown",
   "id": "37769685",
   "metadata": {
    "papermill": {
     "duration": 0.007535,
     "end_time": "2022-12-04T13:23:01.492260",
     "exception": false,
     "start_time": "2022-12-04T13:23:01.484725",
     "status": "completed"
    },
    "tags": []
   },
   "source": [
    "# **Linear Regression:**\n",
    "\n",
    "Linear regression is a statistical method used to analyze the relationship between a dependent variable and one or more independent variables. In linear regression, the relationship between the variables is modeled using a linear equation. This equation can be used to predict the value of the dependent variable based on the values of the independent variables.\n",
    "\n",
    "There are several types of linear regression, including simple linear regression, multiple linear regression, and polynomial regression.\n",
    "\n",
    "* **Simple linear regression:** This type of linear regression models the relationship between a dependent variable and a single independent variable. It is used to identify the strength of the relationship between the two variables and to predict the value of the dependent variable based on the value of the independent variable.\n",
    "\n",
    "* **Multiple linear regression:** This type of linear regression models the relationship between a dependent variable and two or more independent variables. It is used to identify the strength of the relationship between the variables and to predict the value of the dependent variable based on the values of the independent variables.\n",
    "\n",
    "* **Polynomial regression:** This type of linear regression is used to model relationships between the dependent and independent variables that are not linear. It can be used to fit a curve to the data and make predictions based on the curve.\n",
    "\n",
    "\n",
    "*Multiple regression* is a statistical method used to model the relationship between multiple independent variables and a dependent variable. In Python, this can be performed using the sklearn library. To use multiple regression with this library, you will first need to create a LinearRegression object, then train the model on your data using the fit() method. Once the model is trained, you can use the predict() method to make predictions on new data.\n",
    "\n",
    "* Here : Y = b0 + b1 * x1 + b2 * x2 + b3 * x3 + …… bn * xn \n",
    "* Y = Dependent variable and x1, x2, x3, …… xn = multiple independent variables "
   ]
  },
  {
   "cell_type": "markdown",
   "id": "75839221",
   "metadata": {
    "papermill": {
     "duration": 0.00755,
     "end_time": "2022-12-04T13:23:01.507375",
     "exception": false,
     "start_time": "2022-12-04T13:23:01.499825",
     "status": "completed"
    },
    "tags": []
   },
   "source": [
    "**Assumption of Regression Model :** \n",
    "* Linearity: The relationship between dependent and independent variables should be linear.\n",
    "* Homoscedasticity: Constant variance of the errors should be maintained.\n",
    "* Multivariate normality: Multiple Regression assumes that the residuals are normally distributed.\n",
    "* Lack of Multicollinearity: It is assumed that there is little or no multicollinearity in the data."
   ]
  },
  {
   "cell_type": "code",
   "execution_count": 1,
   "id": "f2a86fe3",
   "metadata": {
    "execution": {
     "iopub.execute_input": "2022-12-04T13:23:01.524315Z",
     "iopub.status.busy": "2022-12-04T13:23:01.523836Z",
     "iopub.status.idle": "2022-12-04T13:23:03.148961Z",
     "shell.execute_reply": "2022-12-04T13:23:03.147765Z"
    },
    "papermill": {
     "duration": 1.636975,
     "end_time": "2022-12-04T13:23:03.152005",
     "exception": false,
     "start_time": "2022-12-04T13:23:01.515030",
     "status": "completed"
    },
    "tags": []
   },
   "outputs": [],
   "source": [
    "#Importing the libraries\n",
    "import pandas as pd\n",
    "import numpy as np\n",
    "import matplotlib.pyplot as plt\n",
    "import seaborn as sns\n",
    "\n",
    "# import warnings\n",
    "import warnings\n",
    "warnings.filterwarnings(\"ignore\")\n",
    "\n",
    "# We will use some methods from the sklearn module\n",
    "from sklearn import linear_model\n",
    "from sklearn.linear_model import LinearRegression\n",
    "from sklearn import metrics\n",
    "from sklearn.metrics import mean_squared_error, mean_absolute_error\n",
    "from sklearn.model_selection import train_test_split, cross_val_score"
   ]
  },
  {
   "cell_type": "code",
   "execution_count": 2,
   "id": "b07233b1",
   "metadata": {
    "execution": {
     "iopub.execute_input": "2022-12-04T13:23:03.168944Z",
     "iopub.status.busy": "2022-12-04T13:23:03.168433Z",
     "iopub.status.idle": "2022-12-04T13:23:03.185073Z",
     "shell.execute_reply": "2022-12-04T13:23:03.183755Z"
    },
    "papermill": {
     "duration": 0.028445,
     "end_time": "2022-12-04T13:23:03.188061",
     "exception": false,
     "start_time": "2022-12-04T13:23:03.159616",
     "status": "completed"
    },
    "tags": []
   },
   "outputs": [],
   "source": [
    "# Reading the Dataset\n",
    "df = pd.read_csv(\"data.csv\")"
   ]
  },
  {
   "cell_type": "code",
   "execution_count": 3,
   "id": "418dbb4b",
   "metadata": {
    "execution": {
     "iopub.execute_input": "2022-12-04T13:23:03.206710Z",
     "iopub.status.busy": "2022-12-04T13:23:03.206241Z",
     "iopub.status.idle": "2022-12-04T13:23:03.230080Z",
     "shell.execute_reply": "2022-12-04T13:23:03.228635Z"
    },
    "papermill": {
     "duration": 0.035582,
     "end_time": "2022-12-04T13:23:03.232843",
     "exception": false,
     "start_time": "2022-12-04T13:23:03.197261",
     "status": "completed"
    },
    "tags": []
   },
   "outputs": [
    {
     "data": {
      "text/html": [
       "<div>\n",
       "<style scoped>\n",
       "    .dataframe tbody tr th:only-of-type {\n",
       "        vertical-align: middle;\n",
       "    }\n",
       "\n",
       "    .dataframe tbody tr th {\n",
       "        vertical-align: top;\n",
       "    }\n",
       "\n",
       "    .dataframe thead th {\n",
       "        text-align: right;\n",
       "    }\n",
       "</style>\n",
       "<table border=\"1\" class=\"dataframe\">\n",
       "  <thead>\n",
       "    <tr style=\"text-align: right;\">\n",
       "      <th></th>\n",
       "      <th>Car</th>\n",
       "      <th>Model</th>\n",
       "      <th>Volume</th>\n",
       "      <th>Weight</th>\n",
       "      <th>CO2</th>\n",
       "    </tr>\n",
       "  </thead>\n",
       "  <tbody>\n",
       "    <tr>\n",
       "      <th>0</th>\n",
       "      <td>Toyoty</td>\n",
       "      <td>Aygo</td>\n",
       "      <td>1000</td>\n",
       "      <td>790</td>\n",
       "      <td>99</td>\n",
       "    </tr>\n",
       "    <tr>\n",
       "      <th>1</th>\n",
       "      <td>Mitsubishi</td>\n",
       "      <td>Space Star</td>\n",
       "      <td>1200</td>\n",
       "      <td>1160</td>\n",
       "      <td>95</td>\n",
       "    </tr>\n",
       "    <tr>\n",
       "      <th>2</th>\n",
       "      <td>Skoda</td>\n",
       "      <td>Citigo</td>\n",
       "      <td>1000</td>\n",
       "      <td>929</td>\n",
       "      <td>95</td>\n",
       "    </tr>\n",
       "    <tr>\n",
       "      <th>3</th>\n",
       "      <td>Fiat</td>\n",
       "      <td>500</td>\n",
       "      <td>900</td>\n",
       "      <td>865</td>\n",
       "      <td>90</td>\n",
       "    </tr>\n",
       "    <tr>\n",
       "      <th>4</th>\n",
       "      <td>Mini</td>\n",
       "      <td>Cooper</td>\n",
       "      <td>1500</td>\n",
       "      <td>1140</td>\n",
       "      <td>105</td>\n",
       "    </tr>\n",
       "  </tbody>\n",
       "</table>\n",
       "</div>"
      ],
      "text/plain": [
       "          Car       Model  Volume  Weight  CO2\n",
       "0      Toyoty        Aygo    1000     790   99\n",
       "1  Mitsubishi  Space Star    1200    1160   95\n",
       "2       Skoda      Citigo    1000     929   95\n",
       "3        Fiat         500     900     865   90\n",
       "4        Mini      Cooper    1500    1140  105"
      ]
     },
     "execution_count": 3,
     "metadata": {},
     "output_type": "execute_result"
    }
   ],
   "source": [
    "df.head()"
   ]
  },
  {
   "cell_type": "code",
   "execution_count": 4,
   "id": "e83999e0",
   "metadata": {
    "execution": {
     "iopub.execute_input": "2022-12-04T13:23:03.250446Z",
     "iopub.status.busy": "2022-12-04T13:23:03.250036Z",
     "iopub.status.idle": "2022-12-04T13:23:03.257160Z",
     "shell.execute_reply": "2022-12-04T13:23:03.256062Z"
    },
    "papermill": {
     "duration": 0.018754,
     "end_time": "2022-12-04T13:23:03.259451",
     "exception": false,
     "start_time": "2022-12-04T13:23:03.240697",
     "status": "completed"
    },
    "tags": []
   },
   "outputs": [
    {
     "data": {
      "text/plain": [
       "(36, 5)"
      ]
     },
     "execution_count": 4,
     "metadata": {},
     "output_type": "execute_result"
    }
   ],
   "source": [
    "df.shape"
   ]
  },
  {
   "cell_type": "code",
   "execution_count": 5,
   "id": "0a426eb0",
   "metadata": {
    "execution": {
     "iopub.execute_input": "2022-12-04T13:23:03.277417Z",
     "iopub.status.busy": "2022-12-04T13:23:03.276947Z",
     "iopub.status.idle": "2022-12-04T13:23:03.292836Z",
     "shell.execute_reply": "2022-12-04T13:23:03.291389Z"
    },
    "papermill": {
     "duration": 0.028852,
     "end_time": "2022-12-04T13:23:03.296532",
     "exception": false,
     "start_time": "2022-12-04T13:23:03.267680",
     "status": "completed"
    },
    "tags": []
   },
   "outputs": [
    {
     "name": "stdout",
     "output_type": "stream",
     "text": [
      "          Volume    Weight       CO2\n",
      "Volume  1.000000  0.753537  0.592082\n",
      "Weight  0.753537  1.000000  0.552150\n",
      "CO2     0.592082  0.552150  1.000000\n"
     ]
    }
   ],
   "source": [
    "print(df.corr())"
   ]
  },
  {
   "cell_type": "code",
   "execution_count": 6,
   "id": "38cf205a",
   "metadata": {
    "execution": {
     "iopub.execute_input": "2022-12-04T13:23:03.315568Z",
     "iopub.status.busy": "2022-12-04T13:23:03.314901Z",
     "iopub.status.idle": "2022-12-04T13:23:03.342291Z",
     "shell.execute_reply": "2022-12-04T13:23:03.341218Z"
    },
    "papermill": {
     "duration": 0.039766,
     "end_time": "2022-12-04T13:23:03.344972",
     "exception": false,
     "start_time": "2022-12-04T13:23:03.305206",
     "status": "completed"
    },
    "tags": []
   },
   "outputs": [
    {
     "name": "stdout",
     "output_type": "stream",
     "text": [
      "            Volume       Weight         CO2\n",
      "count    36.000000    36.000000   36.000000\n",
      "mean   1611.111111  1292.277778  102.027778\n",
      "std     388.975047   242.123889    7.454571\n",
      "min     900.000000   790.000000   90.000000\n",
      "25%    1475.000000  1117.250000   97.750000\n",
      "50%    1600.000000  1329.000000   99.000000\n",
      "75%    2000.000000  1418.250000  105.000000\n",
      "max    2500.000000  1746.000000  120.000000\n"
     ]
    }
   ],
   "source": [
    "print(df.describe())"
   ]
  },
  {
   "cell_type": "markdown",
   "id": "251e971c",
   "metadata": {
    "papermill": {
     "duration": 0.00764,
     "end_time": "2022-12-04T13:23:03.361155",
     "exception": false,
     "start_time": "2022-12-04T13:23:03.353515",
     "status": "completed"
    },
    "tags": []
   },
   "source": [
    "**Then make a list of the independent values and call this variable X. Put the dependent values in a variable called y.**\n",
    "\n",
    "It is common to name the list of independent values with an uppercase X and the list of dependent values with a lowercase y.\n",
    "* **Equation:** Sales = β0 + (β1 * Weight) + (β2 * Volume) + e\n",
    "* Setting the values for independent **(X)** variable and dependent **(Y)** variable"
   ]
  },
  {
   "cell_type": "code",
   "execution_count": 7,
   "id": "a3f3e5af",
   "metadata": {
    "execution": {
     "iopub.execute_input": "2022-12-04T13:23:03.378870Z",
     "iopub.status.busy": "2022-12-04T13:23:03.378396Z",
     "iopub.status.idle": "2022-12-04T13:23:03.384390Z",
     "shell.execute_reply": "2022-12-04T13:23:03.383516Z"
    },
    "papermill": {
     "duration": 0.018075,
     "end_time": "2022-12-04T13:23:03.387047",
     "exception": false,
     "start_time": "2022-12-04T13:23:03.368972",
     "status": "completed"
    },
    "tags": []
   },
   "outputs": [],
   "source": [
    "#Setting the value for X and Y\n",
    "X = df[['Weight', 'Volume']]\n",
    "y = df['CO2']"
   ]
  },
  {
   "cell_type": "markdown",
   "id": "0ff314ca",
   "metadata": {
    "papermill": {
     "duration": 0.007644,
     "end_time": "2022-12-04T13:23:03.402756",
     "exception": false,
     "start_time": "2022-12-04T13:23:03.395112",
     "status": "completed"
    },
    "tags": []
   },
   "source": [
    "**Checking for outliers**"
   ]
  },
  {
   "cell_type": "code",
   "execution_count": 8,
   "id": "ec2278e8",
   "metadata": {
    "execution": {
     "iopub.execute_input": "2022-12-04T13:23:03.421875Z",
     "iopub.status.busy": "2022-12-04T13:23:03.420462Z",
     "iopub.status.idle": "2022-12-04T13:23:03.810394Z",
     "shell.execute_reply": "2022-12-04T13:23:03.809436Z"
    },
    "papermill": {
     "duration": 0.402008,
     "end_time": "2022-12-04T13:23:03.812837",
     "exception": false,
     "start_time": "2022-12-04T13:23:03.410829",
     "status": "completed"
    },
    "tags": []
   },
   "outputs": [
    {
     "data": {
      "image/png": "[encoded data removed]",
      "text/plain": [
       "<Figure size 500x500 with 2 Axes>"
      ]
     },
     "metadata": {},
     "output_type": "display_data"
    }
   ],
   "source": [
    "fig, axs = plt.subplots(2, figsize = (5,5))\n",
    "plt1 = sns.boxplot(df['Weight'], ax = axs[0])\n",
    "plt2 = sns.boxplot(df['Volume'], ax = axs[1])\n",
    "plt.tight_layout()"
   ]
  },
  {
   "cell_type": "markdown",
   "id": "4dca0ae7",
   "metadata": {
    "papermill": {
     "duration": 0.008168,
     "end_time": "2022-12-04T13:23:03.829832",
     "exception": false,
     "start_time": "2022-12-04T13:23:03.821664",
     "status": "completed"
    },
    "tags": []
   },
   "source": [
    "# Exploratory Data Analysis\n",
    "\n",
    "**Distribution of the target variable**"
   ]
  },
  {
   "cell_type": "code",
   "execution_count": 9,
   "id": "15ddd582",
   "metadata": {
    "execution": {
     "iopub.execute_input": "2022-12-04T13:23:03.848851Z",
     "iopub.status.busy": "2022-12-04T13:23:03.848137Z",
     "iopub.status.idle": "2022-12-04T13:23:04.123282Z",
     "shell.execute_reply": "2022-12-04T13:23:04.121884Z"
    },
    "papermill": {
     "duration": 0.287332,
     "end_time": "2022-12-04T13:23:04.125862",
     "exception": false,
     "start_time": "2022-12-04T13:23:03.838530",
     "status": "completed"
    },
    "tags": []
   },
   "outputs": [
    {
     "data": {
      "image/png": "[encoded data removed]",
      "text/plain": [
       "<Figure size 640x480 with 1 Axes>"
      ]
     },
     "metadata": {},
     "output_type": "display_data"
    }
   ],
   "source": [
    "sns.distplot(df['CO2']);"
   ]
  },
  {
   "cell_type": "markdown",
   "id": "cb441aec",
   "metadata": {
    "papermill": {
     "duration": 0.00824,
     "end_time": "2022-12-04T13:23:04.142934",
     "exception": false,
     "start_time": "2022-12-04T13:23:04.134694",
     "status": "completed"
    },
    "tags": []
   },
   "source": [
    "**Conclusion:** It is normally distributed"
   ]
  },
  {
   "cell_type": "markdown",
   "id": "fba84803",
   "metadata": {
    "papermill": {
     "duration": 0.008316,
     "end_time": "2022-12-04T13:23:04.159777",
     "exception": false,
     "start_time": "2022-12-04T13:23:04.151461",
     "status": "completed"
    },
    "tags": []
   },
   "source": [
    "**Relationship of CO2 with other variables**"
   ]
  },
  {
   "cell_type": "code",
   "execution_count": 10,
   "id": "66a06f2d",
   "metadata": {
    "execution": {
     "iopub.execute_input": "2022-12-04T13:23:04.179294Z",
     "iopub.status.busy": "2022-12-04T13:23:04.178859Z",
     "iopub.status.idle": "2022-12-04T13:23:04.687163Z",
     "shell.execute_reply": "2022-12-04T13:23:04.685800Z"
    },
    "papermill": {
     "duration": 0.521379,
     "end_time": "2022-12-04T13:23:04.689817",
     "exception": false,
     "start_time": "2022-12-04T13:23:04.168438",
     "status": "completed"
    },
    "tags": []
   },
   "outputs": [
    {
     "data": {
      "image/png": "[encoded data removed]",
      "text/plain": [
       "<Figure size 800x400 with 2 Axes>"
      ]
     },
     "metadata": {},
     "output_type": "display_data"
    }
   ],
   "source": [
    "sns.pairplot(df, x_vars=['Weight', 'Volume'], y_vars='CO2', height=4, aspect=1, kind='scatter')\n",
    "plt.show()"
   ]
  },
  {
   "cell_type": "markdown",
   "id": "888447a1",
   "metadata": {
    "papermill": {
     "duration": 0.009503,
     "end_time": "2022-12-04T13:23:04.708559",
     "exception": false,
     "start_time": "2022-12-04T13:23:04.699056",
     "status": "completed"
    },
    "tags": []
   },
   "source": [
    "**Heatmap**\n",
    "The sns.heatmap() function creates a visualization that shows the correlation matrix of a dataset as a heatmap. The annot parameter of this function shows or does not show correlation values in the cells of the heatmap. If this parameter is set to True, correlation values in cells are displayed."
   ]
  },
  {
   "cell_type": "code",
   "execution_count": 11,
   "id": "03669704",
   "metadata": {
    "execution": {
     "iopub.execute_input": "2022-12-04T13:23:04.729111Z",
     "iopub.status.busy": "2022-12-04T13:23:04.728683Z",
     "iopub.status.idle": "2022-12-04T13:23:05.017879Z",
     "shell.execute_reply": "2022-12-04T13:23:05.016333Z"
    },
    "papermill": {
     "duration": 0.303189,
     "end_time": "2022-12-04T13:23:05.020834",
     "exception": false,
     "start_time": "2022-12-04T13:23:04.717645",
     "status": "completed"
    },
    "tags": []
   },
   "outputs": [
    {
     "data": {
      "image/png": "[encoded data removed]",
      "text/plain": [
       "<Figure size 640x480 with 2 Axes>"
      ]
     },
     "metadata": {},
     "output_type": "display_data"
    }
   ],
   "source": [
    "# Create the correlation matrix and represent it as a heatmap.\n",
    "sns.heatmap(df.corr(), annot = True, cmap = 'coolwarm')\n",
    "plt.show()"
   ]
  },
  {
   "cell_type": "markdown",
   "id": "e3b39b66",
   "metadata": {
    "papermill": {
     "duration": 0.008901,
     "end_time": "2022-12-04T13:23:05.039071",
     "exception": false,
     "start_time": "2022-12-04T13:23:05.030170",
     "status": "completed"
    },
    "tags": []
   },
   "source": [
    "# Model Building\n",
    "\n",
    "**Splitting the dataset into train and test set**"
   ]
  },
  {
   "cell_type": "markdown",
   "id": "18690cd7",
   "metadata": {
    "papermill": {
     "duration": 0.008948,
     "end_time": "2022-12-04T13:23:05.057172",
     "exception": false,
     "start_time": "2022-12-04T13:23:05.048224",
     "status": "completed"
    },
    "tags": []
   },
   "source": [
    "We need to split our dataset into training and testing sets. We’ll perform this by importing train_test_split from sklearn.model_selection library. It is usually good to keep 70% of the data in your train dataset and the rest 30% in your test dataset."
   ]
  },
  {
   "cell_type": "code",
   "execution_count": 12,
   "id": "31bb4b6d",
   "metadata": {
    "execution": {
     "iopub.execute_input": "2022-12-04T13:23:05.078037Z",
     "iopub.status.busy": "2022-12-04T13:23:05.077595Z",
     "iopub.status.idle": "2022-12-04T13:23:05.086154Z",
     "shell.execute_reply": "2022-12-04T13:23:05.085168Z"
    },
    "papermill": {
     "duration": 0.022341,
     "end_time": "2022-12-04T13:23:05.088643",
     "exception": false,
     "start_time": "2022-12-04T13:23:05.066302",
     "status": "completed"
    },
    "tags": []
   },
   "outputs": [],
   "source": [
    "X_train,X_test, y_train, y_test = train_test_split(X, y, test_size = 0.3, random_state = 100)"
   ]
  },
  {
   "cell_type": "code",
   "execution_count": 13,
   "id": "225853eb",
   "metadata": {
    "execution": {
     "iopub.execute_input": "2022-12-04T13:23:05.109519Z",
     "iopub.status.busy": "2022-12-04T13:23:05.108479Z",
     "iopub.status.idle": "2022-12-04T13:23:05.115726Z",
     "shell.execute_reply": "2022-12-04T13:23:05.114683Z"
    },
    "papermill": {
     "duration": 0.020066,
     "end_time": "2022-12-04T13:23:05.117932",
     "exception": false,
     "start_time": "2022-12-04T13:23:05.097866",
     "status": "completed"
    },
    "tags": []
   },
   "outputs": [
    {
     "data": {
      "text/plain": [
       "(25,)"
      ]
     },
     "execution_count": 13,
     "metadata": {},
     "output_type": "execute_result"
    }
   ],
   "source": [
    "y_train.shape"
   ]
  },
  {
   "cell_type": "code",
   "execution_count": 14,
   "id": "82739b2d",
   "metadata": {
    "execution": {
     "iopub.execute_input": "2022-12-04T13:23:05.139442Z",
     "iopub.status.busy": "2022-12-04T13:23:05.138699Z",
     "iopub.status.idle": "2022-12-04T13:23:05.145087Z",
     "shell.execute_reply": "2022-12-04T13:23:05.143839Z"
    },
    "papermill": {
     "duration": 0.020341,
     "end_time": "2022-12-04T13:23:05.147904",
     "exception": false,
     "start_time": "2022-12-04T13:23:05.127563",
     "status": "completed"
    },
    "tags": []
   },
   "outputs": [
    {
     "data": {
      "text/plain": [
       "(11,)"
      ]
     },
     "execution_count": 14,
     "metadata": {},
     "output_type": "execute_result"
    }
   ],
   "source": [
    "y_test.shape"
   ]
  },
  {
   "cell_type": "code",
   "execution_count": 15,
   "id": "42d35b21",
   "metadata": {
    "execution": {
     "iopub.execute_input": "2022-12-04T13:23:05.170944Z",
     "iopub.status.busy": "2022-12-04T13:23:05.169913Z",
     "iopub.status.idle": "2022-12-04T13:23:05.176082Z",
     "shell.execute_reply": "2022-12-04T13:23:05.174881Z"
    },
    "papermill": {
     "duration": 0.020707,
     "end_time": "2022-12-04T13:23:05.178717",
     "exception": false,
     "start_time": "2022-12-04T13:23:05.158010",
     "status": "completed"
    },
    "tags": []
   },
   "outputs": [],
   "source": [
    "reg_model = linear_model.LinearRegression()"
   ]
  },
  {
   "cell_type": "code",
   "execution_count": 16,
   "id": "e44fbf6f",
   "metadata": {
    "execution": {
     "iopub.execute_input": "2022-12-04T13:23:05.201422Z",
     "iopub.status.busy": "2022-12-04T13:23:05.200698Z",
     "iopub.status.idle": "2022-12-04T13:23:05.221600Z",
     "shell.execute_reply": "2022-12-04T13:23:05.220657Z"
    },
    "papermill": {
     "duration": 0.035397,
     "end_time": "2022-12-04T13:23:05.224330",
     "exception": false,
     "start_time": "2022-12-04T13:23:05.188933",
     "status": "completed"
    },
    "tags": []
   },
   "outputs": [],
   "source": [
    "#Fitting the Multiple Linear Regression model\n",
    "reg_model = LinearRegression().fit(X_train, y_train)"
   ]
  },
  {
   "cell_type": "code",
   "execution_count": 17,
   "id": "9a89c0fb",
   "metadata": {
    "execution": {
     "iopub.execute_input": "2022-12-04T13:23:05.246799Z",
     "iopub.status.busy": "2022-12-04T13:23:05.246035Z",
     "iopub.status.idle": "2022-12-04T13:23:05.254660Z",
     "shell.execute_reply": "2022-12-04T13:23:05.252821Z"
    },
    "papermill": {
     "duration": 0.023737,
     "end_time": "2022-12-04T13:23:05.257679",
     "exception": false,
     "start_time": "2022-12-04T13:23:05.233942",
     "status": "completed"
    },
    "tags": []
   },
   "outputs": [
    {
     "name": "stdout",
     "output_type": "stream",
     "text": [
      "Intercept:  74.33882836589245\n"
     ]
    },
    {
     "data": {
      "text/plain": [
       "[('Weight', 0.0171800645996374), ('Volume', 0.0025046399866402976)]"
      ]
     },
     "execution_count": 17,
     "metadata": {},
     "output_type": "execute_result"
    }
   ],
   "source": [
    "#Printing the model coefficients\n",
    "print('Intercept: ',reg_model.intercept_)\n",
    "# pair the feature names with the coefficients\n",
    "list(zip(X, reg_model.coef_))"
   ]
  },
  {
   "cell_type": "code",
   "execution_count": 18,
   "id": "c33207be",
   "metadata": {
    "execution": {
     "iopub.execute_input": "2022-12-04T13:23:05.279207Z",
     "iopub.status.busy": "2022-12-04T13:23:05.278441Z",
     "iopub.status.idle": "2022-12-04T13:23:05.287072Z",
     "shell.execute_reply": "2022-12-04T13:23:05.285785Z"
    },
    "papermill": {
     "duration": 0.022639,
     "end_time": "2022-12-04T13:23:05.289877",
     "exception": false,
     "start_time": "2022-12-04T13:23:05.267238",
     "status": "completed"
    },
    "tags": []
   },
   "outputs": [],
   "source": [
    "#Predicting the Test and Train set result \n",
    "y_pred= reg_model.predict(X_test)  \n",
    "x_pred= reg_model.predict(X_train) "
   ]
  },
  {
   "cell_type": "code",
   "execution_count": 19,
   "id": "8504eaa3",
   "metadata": {
    "execution": {
     "iopub.execute_input": "2022-12-04T13:23:05.314523Z",
     "iopub.status.busy": "2022-12-04T13:23:05.313204Z",
     "iopub.status.idle": "2022-12-04T13:23:05.321672Z",
     "shell.execute_reply": "2022-12-04T13:23:05.319901Z"
    },
    "papermill": {
     "duration": 0.023344,
     "end_time": "2022-12-04T13:23:05.324639",
     "exception": false,
     "start_time": "2022-12-04T13:23:05.301295",
     "status": "completed"
    },
    "tags": []
   },
   "outputs": [
    {
     "name": "stdout",
     "output_type": "stream",
     "text": [
      "Prediction for test set: [ 90.41571939 102.16323413  99.56363213 104.56661845 101.54657652\n",
      "  95.94770019 108.64011848 102.22654214  92.80374837  97.27327129\n",
      "  97.57074463]\n"
     ]
    }
   ],
   "source": [
    "print(\"Prediction for test set: {}\".format(y_pred))"
   ]
  },
  {
   "cell_type": "code",
   "execution_count": 20,
   "id": "d413ea41",
   "metadata": {
    "execution": {
     "iopub.execute_input": "2022-12-04T13:23:05.349495Z",
     "iopub.status.busy": "2022-12-04T13:23:05.349065Z",
     "iopub.status.idle": "2022-12-04T13:23:05.362444Z",
     "shell.execute_reply": "2022-12-04T13:23:05.361070Z"
    },
    "papermill": {
     "duration": 0.029939,
     "end_time": "2022-12-04T13:23:05.365107",
     "exception": false,
     "start_time": "2022-12-04T13:23:05.335168",
     "status": "completed"
    },
    "tags": []
   },
   "outputs": [
    {
     "data": {
      "text/html": [
       "<div>\n",
       "<style scoped>\n",
       "    .dataframe tbody tr th:only-of-type {\n",
       "        vertical-align: middle;\n",
       "    }\n",
       "\n",
       "    .dataframe tbody tr th {\n",
       "        vertical-align: top;\n",
       "    }\n",
       "\n",
       "    .dataframe thead th {\n",
       "        text-align: right;\n",
       "    }\n",
       "</style>\n",
       "<table border=\"1\" class=\"dataframe\">\n",
       "  <thead>\n",
       "    <tr style=\"text-align: right;\">\n",
       "      <th></th>\n",
       "      <th>Actual value</th>\n",
       "      <th>Predicted value</th>\n",
       "    </tr>\n",
       "  </thead>\n",
       "  <tbody>\n",
       "    <tr>\n",
       "      <th>0</th>\n",
       "      <td>99</td>\n",
       "      <td>90.415719</td>\n",
       "    </tr>\n",
       "    <tr>\n",
       "      <th>19</th>\n",
       "      <td>105</td>\n",
       "      <td>102.163234</td>\n",
       "    </tr>\n",
       "    <tr>\n",
       "      <th>32</th>\n",
       "      <td>104</td>\n",
       "      <td>99.563632</td>\n",
       "    </tr>\n",
       "    <tr>\n",
       "      <th>35</th>\n",
       "      <td>120</td>\n",
       "      <td>104.566618</td>\n",
       "    </tr>\n",
       "    <tr>\n",
       "      <th>7</th>\n",
       "      <td>92</td>\n",
       "      <td>101.546577</td>\n",
       "    </tr>\n",
       "    <tr>\n",
       "      <th>12</th>\n",
       "      <td>99</td>\n",
       "      <td>95.947700</td>\n",
       "    </tr>\n",
       "    <tr>\n",
       "      <th>29</th>\n",
       "      <td>114</td>\n",
       "      <td>108.640118</td>\n",
       "    </tr>\n",
       "    <tr>\n",
       "      <th>33</th>\n",
       "      <td>108</td>\n",
       "      <td>102.226542</td>\n",
       "    </tr>\n",
       "    <tr>\n",
       "      <th>5</th>\n",
       "      <td>105</td>\n",
       "      <td>92.803748</td>\n",
       "    </tr>\n",
       "    <tr>\n",
       "      <th>1</th>\n",
       "      <td>95</td>\n",
       "      <td>97.273271</td>\n",
       "    </tr>\n",
       "    <tr>\n",
       "      <th>18</th>\n",
       "      <td>104</td>\n",
       "      <td>97.570745</td>\n",
       "    </tr>\n",
       "  </tbody>\n",
       "</table>\n",
       "</div>"
      ],
      "text/plain": [
       "    Actual value  Predicted value\n",
       "0             99        90.415719\n",
       "19           105       102.163234\n",
       "32           104        99.563632\n",
       "35           120       104.566618\n",
       "7             92       101.546577\n",
       "12            99        95.947700\n",
       "29           114       108.640118\n",
       "33           108       102.226542\n",
       "5            105        92.803748\n",
       "1             95        97.273271\n",
       "18           104        97.570745"
      ]
     },
     "execution_count": 20,
     "metadata": {},
     "output_type": "execute_result"
    }
   ],
   "source": [
    "#Actual value and the predicted value\n",
    "reg_model_diff = pd.DataFrame({'Actual value': y_test, 'Predicted value': y_pred})\n",
    "reg_model_diff"
   ]
  },
  {
   "cell_type": "code",
   "execution_count": 21,
   "id": "ee0996ca",
   "metadata": {
    "execution": {
     "iopub.execute_input": "2022-12-04T13:23:05.388949Z",
     "iopub.status.busy": "2022-12-04T13:23:05.387510Z",
     "iopub.status.idle": "2022-12-04T13:23:05.398932Z",
     "shell.execute_reply": "2022-12-04T13:23:05.396503Z"
    },
    "papermill": {
     "duration": 0.027622,
     "end_time": "2022-12-04T13:23:05.402805",
     "exception": false,
     "start_time": "2022-12-04T13:23:05.375183",
     "status": "completed"
    },
    "tags": []
   },
   "outputs": [
    {
     "name": "stdout",
     "output_type": "stream",
     "text": [
      "Mean Absolute Error: 6.901980901636316\n",
      "Mean Square Error: 63.39765310998794\n",
      "Root Mean Square Error: 7.96226432053018\n"
     ]
    }
   ],
   "source": [
    "mae = metrics.mean_absolute_error(y_test, y_pred)\n",
    "mse = metrics.mean_squared_error(y_test, y_pred)\n",
    "r2 = np.sqrt(metrics.mean_squared_error(y_test, y_pred))\n",
    "\n",
    "print('Mean Absolute Error:', mae)\n",
    "print('Mean Square Error:', mse)\n",
    "print('Root Mean Square Error:', r2)"
   ]
  }
 ],
 "metadata": {
  "kernelspec": {
   "display_name": "Python 3 (ipykernel)",
   "language": "python",
   "name": "python3"
  },
  "language_info": {
   "codemirror_mode": {
    "name": "ipython",
    "version": 3
   },
   "file_extension": ".py",
   "mimetype": "text/x-python",
   "name": "python",
   "nbconvert_exporter": "python",
   "pygments_lexer": "ipython3",
   "version": "3.9.13"
  },
  "papermill": {
   "default_parameters": {},
   "duration": 15.042425,
   "end_time": "2022-12-04T13:23:06.440296",
   "environment_variables": {},
   "exception": null,
   "input_path": "__notebook__.ipynb",
   "output_path": "__notebook__.ipynb",
   "parameters": {},
   "start_time": "2022-12-04T13:22:51.397871",
   "version": "2.3.4"
  }
 },
 "nbformat": 4,
 "nbformat_minor": 5
}
